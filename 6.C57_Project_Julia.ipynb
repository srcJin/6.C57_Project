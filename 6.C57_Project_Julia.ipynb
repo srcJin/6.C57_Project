{
 "cells": [
  {
   "cell_type": "markdown",
   "metadata": {},
   "source": [
    "# Load Packages"
   ]
  },
  {
   "cell_type": "code",
   "execution_count": 1,
   "metadata": {},
   "outputs": [
    {
     "name": "stdout",
     "output_type": "stream",
     "text": [
      "Set parameter WLSAccessID\n",
      "Set parameter WLSSecret\n",
      "Set parameter LicenseID to value 2553220\n",
      "Academic license 2553220 - for non-commercial use only - registered to ga___@mit.edu\n"
     ]
    }
   ],
   "source": [
    "using CSV\n",
    "using DataFrames\n",
    "using Gurobi\n",
    "using Random\n",
    "using Distances\n",
    "using JuMP\n",
    "using Gurobi\n",
    "\n",
    "const GRB_ENV = Gurobi.Env(output_flag=1);"
   ]
  },
  {
   "cell_type": "markdown",
   "metadata": {},
   "source": [
    "# Load the data"
   ]
  },
  {
   "cell_type": "code",
   "execution_count": null,
   "metadata": {},
   "outputs": [
    {
     "name": "stdout",
     "output_type": "stream",
     "text": [
      "Set parameter WLSAccessID\n",
      "Set parameter WLSSecret\n",
      "Set parameter LicenseID to value 2553220\n",
      "Academic license 2553220 - for non-commercial use only - registered to ga___@mit.edu\n",
      "Number of pairs: 100\n",
      "Number of centers: 256\n"
     ]
    }
   ],
   "source": [
    "model = Model(Gurobi.Optimizer)\n",
    "\n",
    "# Load data\n",
    "full_pairs = CSV.read(\"./data/kidney_data_with_states.csv\", DataFrame)\n",
    "centers = CSV.read(\"./data/Transplant_Center_Dataset.csv\", DataFrame)\n",
    "\n",
    "# # Take random samples\n",
    "pair_size = 100\n",
    "# center_size = 6\n",
    "Random.seed!(42)\n",
    "pairs = full_pairs[1:100, :]\n",
    "# centers = centers[shuffle(1:nrow(centers))[1:min(center_size, nrow(centers))], :]\n",
    "\n",
    "n = nrow(pairs)\n",
    "m = nrow(centers)\n",
    "\n",
    "println(\"Number of pairs: \", n)\n",
    "println(\"Number of centers: \", m)"
   ]
  },
  {
   "cell_type": "markdown",
   "metadata": {},
   "source": [
    "# Base Model"
   ]
  },
  {
   "cell_type": "code",
   "execution_count": null,
   "metadata": {},
   "outputs": [
    {
     "name": "stdout",
     "output_type": "stream",
     "text": [
      "Set parameter WLSAccessID\n",
      "Set parameter WLSSecret\n",
      "Set parameter LicenseID to value 2553220\n",
      "Academic license 2553220 - for non-commercial use only - registered to ga___@mit.edu\n",
      "Gurobi Optimizer version 11.0.3 build v11.0.3rc0 (win64 - Windows 11.0 (22631.2))\n",
      "\n",
      "CPU model: AMD Ryzen 9 7940HS w/ Radeon 780M Graphics, instruction set [SSE2|AVX|AVX2|AVX512]\n",
      "Thread count: 8 physical cores, 16 logical processors, using up to 16 threads\n",
      "\n",
      "Academic license 2553220 - for non-commercial use only - registered to ga___@mit.edu\n",
      "Optimize a model with 10300 rows, 10000 columns and 49800 nonzeros\n",
      "Model fingerprint: 0x06bb70a9\n",
      "Variable types: 0 continuous, 10000 integer (10000 binary)\n",
      "Coefficient statistics:\n",
      "  Matrix range     [1e+00, 1e+00]\n",
      "  Objective range  [1e+00, 1e+00]\n",
      "  Bounds range     [0e+00, 0e+00]\n",
      "  RHS range        [1e+00, 1e+00]\n",
      "Found heuristic solution: objective 16.0000000\n",
      "Presolve removed 10026 rows and 7726 columns\n",
      "Presolve time: 0.03s\n",
      "Presolved: 274 rows, 2274 columns, 8409 nonzeros\n",
      "Variable types: 0 continuous, 2274 integer (2274 binary)\n",
      "Found heuristic solution: objective 34.0000000\n",
      "\n",
      "Root relaxation: objective 4.500000e+01, 469 iterations, 0.01 seconds (0.01 work units)\n",
      "\n",
      "    Nodes    |    Current Node    |     Objective Bounds      |     Work\n",
      " Expl Unexpl |  Obj  Depth IntInf | Incumbent    BestBd   Gap | It/Node Time\n",
      "\n",
      "*    0     0               0      45.0000000   45.00000  0.00%     -    0s\n",
      "\n",
      "Explored 1 nodes (469 simplex iterations) in 0.05 seconds (0.04 work units)\n",
      "Thread count was 16 (of 16 available processors)\n",
      "\n",
      "Solution count 3: 45 34 16 \n",
      "\n",
      "Optimal solution found (tolerance 1.00e-04)\n",
      "Best objective 4.500000000000e+01, best bound 4.500000000000e+01, gap 0.0000%\n",
      "\n",
      "User-callback calls 252, time in user-callback 0.00 sec\n",
      "\n",
      "Optimal solution found:\n",
      "\n",
      "Donor 1 donates to Patient 36\n",
      "Donor 2 donates to Patient 35\n",
      "Donor 3 donates to Patient 8\n",
      "Donor 6 donates to Patient 85\n",
      "Donor 8 donates to Patient 26\n",
      "Donor 9 donates to Patient 71\n",
      "Donor 10 donates to Patient 14\n",
      "Donor 12 donates to Patient 12\n",
      "Donor 13 donates to Patient 13\n",
      "Donor 14 donates to Patient 41\n",
      "Donor 18 donates to Patient 18\n",
      "Donor 19 donates to Patient 70\n",
      "Donor 20 donates to Patient 33\n",
      "Donor 21 donates to Patient 99\n",
      "Donor 22 donates to Patient 79\n",
      "Donor 26 donates to Patient 77\n",
      "Donor 30 donates to Patient 96\n",
      "Donor 32 donates to Patient 39\n",
      "Donor 33 donates to Patient 9\n",
      "Donor 34 donates to Patient 95\n",
      "Donor 35 donates to Patient 34\n",
      "Donor 36 donates to Patient 98\n",
      "Donor 39 donates to Patient 84\n",
      "Donor 41 donates to Patient 20\n",
      "Donor 43 donates to Patient 43\n",
      "Donor 52 donates to Patient 1\n",
      "Donor 53 donates to Patient 53\n",
      "Donor 56 donates to Patient 3\n",
      "Donor 60 donates to Patient 10\n",
      "Donor 67 donates to Patient 69\n",
      "Donor 69 donates to Patient 30\n",
      "Donor 70 donates to Patient 6\n",
      "Donor 71 donates to Patient 52\n",
      "Donor 72 donates to Patient 72\n",
      "Donor 73 donates to Patient 32\n",
      "Donor 77 donates to Patient 73\n",
      "Donor 79 donates to Patient 21\n",
      "Donor 84 donates to Patient 60\n",
      "Donor 85 donates to Patient 2\n",
      "Donor 91 donates to Patient 91\n",
      "Donor 95 donates to Patient 19\n",
      "Donor 96 donates to Patient 67\n",
      "Donor 98 donates to Patient 56\n",
      "Donor 99 donates to Patient 100\n",
      "Donor 100 donates to Patient 22\n",
      "\n",
      "Total optimal transplants: 45\n"
     ]
    }
   ],
   "source": [
    "# Create Compatibility Matrix Based on Exact Blood Type Matches\n",
    "c = zeros(Int, n, n)  # Initialize n x n matrix with zeros\n",
    "\n",
    "# Create compatibility matrix (1 if compatible, 0 otherwise)\n",
    "for i in 1:n\n",
    "    donor = pairs.Donor[i]\n",
    "    for j in 1:n\n",
    "        patient = pairs.Patient[j]\n",
    "        # Exact blood type match\n",
    "        c[i, j] = donor == patient ? 1 : 0\n",
    "    end\n",
    "end\n",
    "\n",
    "# Create JuMP Model with Gurobi Optimizer\n",
    "model = Model(Gurobi.Optimizer)\n",
    "set_optimizer_attribute(model, \"OutputFlag\", 1) \n",
    "\n",
    "# Define Decision Variables: y[i,j] = 1 if donor i donates to patient j\n",
    "@variable(model, y[1:n, 1:n], Bin)\n",
    "\n",
    "# Define Objective: Maximize the Total Number of Transplants\n",
    "@objective(model, Max, sum(y[i, j] for i in 1:n for j in 1:n))\n",
    "\n",
    "# Add Compatibility Constraints: y[i,j] <= c[i,j]\n",
    "@constraint(model, [i=1:n, j=1:n], y[i, j] <= c[i, j])\n",
    "\n",
    "# Each Donor Can Donate to At Most One Patient: Σ y[i,j] <= 1, ∀ i\n",
    "@constraint(model, [i=1:n], sum(y[i, j] for j in 1:n) <= 1)\n",
    "\n",
    "# Each Patient Can Receive at Most One Kidney: Σ y[i,j] <= 1, ∀ j\n",
    "@constraint(model, [j=1:n], sum(y[i, j] for i in 1:n) <= 1)\n",
    "\n",
    "# Reciprocal Donation Constraints: Σ y[i,j] == Σ y[j,i], ∀ i\n",
    "@constraint(model, [i=1:n], sum(y[i, j] for j in 1:n) == sum(y[j, i] for j in 1:n))\n",
    "\n",
    "# Optimize the Model\n",
    "optimize!(model)\n",
    "\n",
    "# Check Optimization Status and Extract Results\n",
    "status = termination_status(model)\n",
    "if status == MOI.OPTIMAL\n",
    "    println(\"\\nOptimal solution found:\\n\")\n",
    "    transplants = DataFrame(Donor = Int[], Patient = Int[])\n",
    "    for i in 1:n\n",
    "        for j in 1:n\n",
    "            if value(y[i, j]) > 0.5\n",
    "                println(\"Donor $(i) donates to Patient $(j)\")\n",
    "                push!(transplants, (Donor = i, Patient = j))\n",
    "            end\n",
    "        end\n",
    "    end\n",
    "    println(\"\\nTotal optimal transplants: \", nrow(transplants))\n",
    "    # display(transplants)\n",
    "else\n",
    "    println(\"\\nNo optimal solution found. Status: \", status)\n",
    "end"
   ]
  },
  {
   "cell_type": "markdown",
   "metadata": {},
   "source": [
    "# Base Model with Altrustic Donors"
   ]
  },
  {
   "cell_type": "code",
   "execution_count": null,
   "metadata": {},
   "outputs": [],
   "source": []
  },
  {
   "cell_type": "markdown",
   "metadata": {},
   "source": [
    "# Introducing Matching Score"
   ]
  },
  {
   "cell_type": "code",
   "execution_count": null,
   "metadata": {},
   "outputs": [],
   "source": [
    "# Compatibility matrix\n",
    "comp = Dict()\n",
    "blood_type_matches = [\n",
    "    (\"O\", \"O\"), (\"O\", \"A\"), (\"O\", \"B\"), (\"O\", \"AB\"),\n",
    "    (\"A\", \"A\"), (\"A\", \"AB\"),\n",
    "    (\"B\", \"B\"), (\"B\", \"AB\"),\n",
    "    (\"AB\", \"AB\")\n",
    "]\n",
    "\n",
    "for i in 1:n, j in 1:n\n",
    "    donor = pairs[i, :Donor]\n",
    "    patient = pairs[j, :Patient]\n",
    "    comp[(i, j)] = (donor, patient) in blood_type_matches ? 1 : 0\n",
    "end"
   ]
  },
  {
   "cell_type": "markdown",
   "metadata": {},
   "source": [
    "# Introducing Transportation Cost"
   ]
  },
  {
   "cell_type": "code",
   "execution_count": null,
   "metadata": {},
   "outputs": [],
   "source": [
    "# Create model\n",
    "model = Model(Gurobi.Optimizer)\n",
    "\n",
    "# Decision variables\n",
    "@variable(model, x[1:n, 1:n, 1:m], Bin)  # x[i,j,k] = 1 if donor i donates to patient j through center k\n",
    "@variable(model, y[1:m], Bin)  # y[k] = 1 if center k is used\n",
    "\n",
    "# Calculate distances\n",
    "distances = Dict()\n",
    "for i in 1:n, k in 1:m\n",
    "    pair_coords = (pairs[i, :lat], pairs[i, :lng])\n",
    "    center_coords = (centers[k, :lat], centers[k, :lng])\n",
    "    distances[(i, k)] = haversine(pair_coords, center_coords, 6371)  # 6371 is Earth's radius in km\n",
    "end\n",
    "\n",
    "# Hyper Parameter\n",
    "# Calculate d_max from the sampled data\n",
    "d_max = 0.0\n",
    "for i in 1:n, j in 1:n, k in 1:m\n",
    "    # Calculate total distance for this potential pairing through center k\n",
    "    total_distance = distances[(i,k)] + distances[(j,k)]\n",
    "    global d_max = max(d_max, total_distance)\n",
    "end\n",
    "\n",
    "# Calculate alpha based on d_max and number of pairs\n",
    "α = 0\n",
    "\n",
    "println(\"Maximum distance in sampled data (d_max): \", round(d_max, digits=2), \" km\")\n",
    "println(\"Calculated α: \", α)\n"
   ]
  },
  {
   "cell_type": "markdown",
   "metadata": {},
   "source": [
    "# Introducing Surgery Constrains"
   ]
  },
  {
   "cell_type": "code",
   "execution_count": null,
   "metadata": {},
   "outputs": [],
   "source": []
  }
 ],
 "metadata": {
  "kernelspec": {
   "display_name": "Julia 1.11.1",
   "language": "julia",
   "name": "julia-1.11"
  },
  "language_info": {
   "file_extension": ".jl",
   "mimetype": "application/julia",
   "name": "julia",
   "version": "1.11.1"
  }
 },
 "nbformat": 4,
 "nbformat_minor": 2
}
