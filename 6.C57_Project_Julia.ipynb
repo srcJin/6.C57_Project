{
 "cells": [
  {
   "cell_type": "markdown",
   "metadata": {},
   "source": [
    "# Load Packages"
   ]
  },
  {
   "cell_type": "markdown",
   "metadata": {},
   "source": [
    "# Load Data"
   ]
  },
  {
   "cell_type": "code",
   "execution_count": null,
   "metadata": {},
   "outputs": [
    {
     "ename": "LoadError",
     "evalue": "ArgumentError: Package CSV not found in current path.\n- Run `import Pkg; Pkg.add(\"CSV\")` to install the CSV package.",
     "output_type": "error",
     "traceback": [
      "ArgumentError: Package CSV not found in current path.\n- Run `import Pkg; Pkg.add(\"CSV\")` to install the CSV package.",
      "",
      "Stacktrace:",
      " [1] macro expansion",
      "   @ .\\loading.jl:2223 [inlined]",
      " [2] macro expansion",
      "   @ .\\lock.jl:273 [inlined]",
      " [3] __require(into::Module, mod::Symbol)",
      "   @ Base .\\loading.jl:2198",
      " [4] #invoke_in_world#3",
      "   @ .\\essentials.jl:1089 [inlined]",
      " [5] invoke_in_world",
      "   @ .\\essentials.jl:1086 [inlined]",
      " [6] require(into::Module, mod::Symbol)",
      "   @ Base .\\loading.jl:2191"
     ]
    }
   ],
   "source": [
    "using CSV\n",
    "using DataFrames\n",
    "using Gurobi\n",
    "using Random\n",
    "using Distances\n",
    "using JuMP\n",
    "using Gurobi\n",
    "\n",
    "const GRB_ENV = Gurobi.Env(output_flag=1);"
   ]
  },
  {
   "cell_type": "code",
   "execution_count": null,
   "metadata": {},
   "outputs": [],
   "source": []
  },
  {
   "cell_type": "markdown",
   "metadata": {},
   "source": [
    "# Base Model"
   ]
  },
  {
   "cell_type": "code",
   "execution_count": null,
   "metadata": {},
   "outputs": [],
   "source": [
    "model = Model(Gurobi.Optimizer)\n",
    "\n",
    "# Load data\n",
    "pairs = CSV.read(\"./data/kidney_data_with_states.csv\", DataFrame)\n",
    "centers = CSV.read(\"./data/Transplant_Center_Dataset.csv\", DataFrame)\n",
    "\n",
    "# # Take random samples\n",
    "pair_size = 2000\n",
    "# center_size = 6\n",
    "Random.seed!(42)\n",
    "pairs = pairs[shuffle(1:nrow(pairs))[1:min(pair_size, nrow(pairs))], :]\n",
    "# centers = centers[shuffle(1:nrow(centers))[1:min(center_size, nrow(centers))], :]\n",
    "\n",
    "n = nrow(pairs)\n",
    "m = nrow(centers)\n",
    "\n",
    "println(\"Number of pairs: \", n)\n",
    "println(\"Number of centers: \", m)\n",
    "\n",
    "# Create model\n",
    "model = Model(Gurobi.Optimizer)\n",
    "\n",
    "# Decision variables\n",
    "@variable(model, x[1:n, 1:n, 1:m], Bin)  # x[i,j,k] = 1 if donor i donates to patient j through center k\n",
    "@variable(model, y[1:m], Bin)  # y[k] = 1 if center k is used\n",
    "\n",
    "# Calculate distances\n",
    "distances = Dict()\n",
    "for i in 1:n, k in 1:m\n",
    "    pair_coords = (pairs[i, :lat], pairs[i, :lng])\n",
    "    center_coords = (centers[k, :lat], centers[k, :lng])\n",
    "    distances[(i, k)] = haversine(pair_coords, center_coords, 6371)  # 6371 is Earth's radius in km\n",
    "end\n",
    "\n",
    "# Compatibility matrix\n",
    "comp = Dict()\n",
    "blood_type_matches = [\n",
    "    (\"O\", \"O\"), (\"O\", \"A\"), (\"O\", \"B\"), (\"O\", \"AB\"),\n",
    "    (\"A\", \"A\"), (\"A\", \"AB\"),\n",
    "    (\"B\", \"B\"), (\"B\", \"AB\"),\n",
    "    (\"AB\", \"AB\")\n",
    "]\n",
    "\n",
    "for i in 1:n, j in 1:n\n",
    "    donor = pairs[i, :Donor]\n",
    "    patient = pairs[j, :Patient]\n",
    "    comp[(i, j)] = (donor, patient) in blood_type_matches ? 1 : 0\n",
    "end\n",
    "\n",
    "# Hyper Parameter\n",
    "# Calculate d_max from the sampled data\n",
    "d_max = 0.0\n",
    "for i in 1:n, j in 1:n, k in 1:m\n",
    "    # Calculate total distance for this potential pairing through center k\n",
    "    total_distance = distances[(i,k)] + distances[(j,k)]\n",
    "    global d_max = max(d_max, total_distance)\n",
    "end\n",
    "\n",
    "# Calculate alpha based on d_max and number of pairs\n",
    "α = 0\n",
    "\n",
    "println(\"Maximum distance in sampled data (d_max): \", round(d_max, digits=2), \" km\")\n",
    "println(\"Calculated α: \", α)\n"
   ]
  },
  {
   "cell_type": "markdown",
   "metadata": {},
   "source": [
    "# Base Model with Altrustic Donors"
   ]
  },
  {
   "cell_type": "markdown",
   "metadata": {},
   "source": [
    "# Introducing Matching Score"
   ]
  },
  {
   "cell_type": "markdown",
   "metadata": {},
   "source": [
    "# Introducing Transportation Cost"
   ]
  },
  {
   "cell_type": "markdown",
   "metadata": {},
   "source": [
    "# Introducing Surgery Constrains"
   ]
  }
 ],
 "metadata": {
  "kernelspec": {
   "display_name": "Julia 1.11.1",
   "language": "julia",
   "name": "julia-1.11"
  },
  "language_info": {
   "file_extension": ".jl",
   "mimetype": "application/julia",
   "name": "julia",
   "version": "1.11.1"
  }
 },
 "nbformat": 4,
 "nbformat_minor": 2
}
