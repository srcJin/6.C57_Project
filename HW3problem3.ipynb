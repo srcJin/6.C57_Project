{
 "cells": [
  {
   "cell_type": "code",
   "execution_count": null,
   "id": "eceba53f-d89f-49ff-90fc-d2c493700d48",
   "metadata": {},
   "outputs": [],
   "source": [
    "using JuMP\n",
    "using Gurobi\n",
    "using CSV\n",
    "using DataFrames"
   ]
  },
  {
   "cell_type": "code",
   "execution_count": null,
   "id": "5aa64789-0afb-4d0e-9432-13a8faee063d",
   "metadata": {},
   "outputs": [],
   "source": [
    "const GRB_ENV = Gurobi.Env(output_flag=1);"
   ]
  },
  {
   "cell_type": "markdown",
   "id": "9d5b1287-465f-4def-80ae-69c3ad5f3860",
   "metadata": {},
   "source": [
    "### Data importation"
   ]
  },
  {
   "cell_type": "code",
   "execution_count": null,
   "id": "a780ed26-4884-464f-802e-bc19100104b8",
   "metadata": {},
   "outputs": [],
   "source": [
    "centers = CSV.File(\"centers.csv\",header=0) |> Tables.matrix;\n",
    "stations = CSV.File(\"stations.csv\",header=0) |> Tables.matrix;\n",
    "landfills = CSV.File(\"landfills.csv\",header=0) |> Tables.matrix;\n",
    "q = CSV.File(\"q.csv\",header=0) |> Tables.matrix;\n",
    "\n",
    "centers2 = CSV.File(\"centers2.csv\",header=0) |> Tables.matrix;\n",
    "stations2 = CSV.File(\"stations2.csv\",header=0) |> Tables.matrix;\n",
    "landfills2 = CSV.File(\"landfills2.csv\",header=0) |> Tables.matrix;\n",
    "q2 = CSV.File(\"q2.csv\",header=0) |> Tables.matrix;\n",
    "\n",
    "centers_all = [centers;centers2];\n",
    "stations_all = [stations;stations2];\n",
    "landfills_all = [landfills;landfills2];\n",
    "q_all = [q;q2];\n",
    "\n",
    "n1 = size(centers)[1]\n",
    "s1 = size(stations)[1]\n",
    "m1 = size(landfills)[1]\n",
    "n2 = size(centers2)[1]\n",
    "s2 = size(stations2)[1]\n",
    "m2 = size(landfills2)[1]\n",
    "n_all = n1+n2;\n",
    "s_all = s1+s2;\n",
    "m_all = m1+m2;"
   ]
  }
 ],
 "metadata": {
  "kernelspec": {
   "display_name": "Julia 1.10.0",
   "language": "julia",
   "name": "julia-1.10"
  },
  "language_info": {
   "file_extension": ".jl",
   "mimetype": "application/julia",
   "name": "julia",
   "version": "1.10.0"
  }
 },
 "nbformat": 4,
 "nbformat_minor": 5
}
